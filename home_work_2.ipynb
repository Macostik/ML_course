{
  "nbformat": 4,
  "nbformat_minor": 0,
  "metadata": {
    "colab": {
      "provenance": [],
      "authorship_tag": "ABX9TyPMBPUjI+4lMscPDilz48Yb",
      "include_colab_link": true
    },
    "kernelspec": {
      "name": "python3",
      "display_name": "Python 3"
    },
    "language_info": {
      "name": "python"
    }
  },
  "cells": [
    {
      "cell_type": "markdown",
      "metadata": {
        "id": "view-in-github",
        "colab_type": "text"
      },
      "source": [
        "<a href=\"https://colab.research.google.com/github/Macostik/ML_course/blob/main/home_work_2.ipynb\" target=\"_parent\"><img src=\"https://colab.research.google.com/assets/colab-badge.svg\" alt=\"Open In Colab\"/></a>"
      ]
    },
    {
      "cell_type": "code",
      "source": [
        "import numpy as np"
      ],
      "metadata": {
        "id": "1Z6DZO1MWsoM"
      },
      "execution_count": 63,
      "outputs": []
    },
    {
      "cell_type": "code",
      "source": [
        "from google.colab import drive\n",
        "drive.mount('/content/drive')"
      ],
      "metadata": {
        "colab": {
          "base_uri": "https://localhost:8080/"
        },
        "id": "ED-i7u38WtVD",
        "outputId": "16c46712-8e9b-42a3-fec0-3825aa620896"
      },
      "execution_count": 64,
      "outputs": [
        {
          "output_type": "stream",
          "name": "stdout",
          "text": [
            "Drive already mounted at /content/drive; to attempt to forcibly remount, call drive.mount(\"/content/drive\", force_remount=True).\n"
          ]
        }
      ]
    },
    {
      "cell_type": "markdown",
      "source": [
        "Mounted at /content/drive"
      ],
      "metadata": {
        "id": "riOEh7tnXPpY"
      }
    },
    {
      "cell_type": "markdown",
      "source": [
        "Get Iris list dataSet"
      ],
      "metadata": {
        "id": "meqUT61ZYrny"
      }
    },
    {
      "cell_type": "code",
      "source": [
        "# Getting Iris dataset (first four columns without target)\n",
        "iris_dataset = np.genfromtxt('https://archive.ics.uci.edu/ml/machine-learning-databases/iris/iris.data', dtype=float, delimiter=',', usecols=(0,1,2,3))"
      ],
      "metadata": {
        "id": "yLpcbiubWt_j"
      },
      "execution_count": 83,
      "outputs": []
    },
    {
      "cell_type": "markdown",
      "source": [
        "Get info about Iris dataSet"
      ],
      "metadata": {
        "id": "AcpxqqRpfIpi"
      }
    },
    {
      "cell_type": "code",
      "source": [
        "print(\"Shape of array: \", iris_dataset.shape)\n",
        "print(\"Type of array: \", type(iris_dataset))\n",
        "print(\"Look first twenty items:\\n\", iris_dataset[:20])"
      ],
      "metadata": {
        "colab": {
          "base_uri": "https://localhost:8080/"
        },
        "id": "fy4BZvAHWuGu",
        "outputId": "214e1f25-9c28-4bb1-eb3c-593050d6eb56"
      },
      "execution_count": 66,
      "outputs": [
        {
          "output_type": "stream",
          "name": "stdout",
          "text": [
            "Shape of array:  (150, 4)\n",
            "Type of array:  <class 'numpy.ndarray'>\n",
            "Look first twenty items:\n",
            " [[5.1 3.5 1.4 0.2]\n",
            " [4.9 3.  1.4 0.2]\n",
            " [4.7 3.2 1.3 0.2]\n",
            " [4.6 3.1 1.5 0.2]\n",
            " [5.  3.6 1.4 0.2]\n",
            " [5.4 3.9 1.7 0.4]\n",
            " [4.6 3.4 1.4 0.3]\n",
            " [5.  3.4 1.5 0.2]\n",
            " [4.4 2.9 1.4 0.2]\n",
            " [4.9 3.1 1.5 0.1]\n",
            " [5.4 3.7 1.5 0.2]\n",
            " [4.8 3.4 1.6 0.2]\n",
            " [4.8 3.  1.4 0.1]\n",
            " [4.3 3.  1.1 0.1]\n",
            " [5.8 4.  1.2 0.2]\n",
            " [5.7 4.4 1.5 0.4]\n",
            " [5.4 3.9 1.3 0.4]\n",
            " [5.1 3.5 1.4 0.3]\n",
            " [5.7 3.8 1.7 0.3]\n",
            " [5.1 3.8 1.5 0.3]]\n"
          ]
        }
      ]
    },
    {
      "cell_type": "markdown",
      "source": [
        "Count mean, median, standard deviation for first row"
      ],
      "metadata": {
        "id": "1u8AQcaviO21"
      }
    },
    {
      "cell_type": "code",
      "source": [
        "# Calculate mean value\n",
        "mean_value = np.mean(iris_dataset, axis=1)\n",
        "print(\"Mean value: \\n\", mean_value)"
      ],
      "metadata": {
        "colab": {
          "base_uri": "https://localhost:8080/"
        },
        "id": "LZCGbbUgWuSY",
        "outputId": "5f297e7f-8626-46b4-e75a-7dc997789501"
      },
      "execution_count": 67,
      "outputs": [
        {
          "output_type": "stream",
          "name": "stdout",
          "text": [
            "Mean value: \n",
            " [2.55  2.375 2.35  2.35  2.55  2.85  2.425 2.525 2.225 2.4   2.7   2.5\n",
            " 2.325 2.125 2.8   3.    2.75  2.575 2.875 2.675 2.675 2.675 2.35  2.65\n",
            " 2.575 2.45  2.6   2.6   2.55  2.425 2.425 2.675 2.725 2.825 2.4   2.4\n",
            " 2.625 2.4   2.225 2.55  2.525 2.1   2.275 2.675 2.8   2.375 2.675 2.35\n",
            " 2.675 2.475 4.075 3.9   4.1   3.275 3.85  3.575 3.975 2.9   3.85  3.3\n",
            " 2.875 3.65  3.3   3.775 3.35  3.9   3.65  3.4   3.6   3.275 3.925 3.55\n",
            " 3.8   3.7   3.725 3.85  3.95  4.1   3.725 3.2   3.2   3.15  3.4   3.85\n",
            " 3.6   3.875 4.    3.575 3.5   3.325 3.425 3.775 3.4   2.9   3.45  3.525\n",
            " 3.525 3.675 2.925 3.475 4.525 3.875 4.525 4.15  4.375 4.825 3.4   4.575\n",
            " 4.2   4.85  4.2   4.075 4.35  3.8   4.025 4.3   4.2   5.1   4.875 3.675\n",
            " 4.525 3.825 4.8   3.925 4.45  4.55  3.9   3.95  4.225 4.4   4.55  5.025\n",
            " 4.25  3.925 3.925 4.775 4.425 4.2   3.9   4.375 4.45  4.35  3.875 4.55\n",
            " 4.55  4.3   3.925 4.175 4.325 3.95 ]\n"
          ]
        }
      ]
    },
    {
      "cell_type": "code",
      "source": [
        "# Calculate median value\n",
        "median_value = np.median(iris_dataset, axis=1)\n",
        "print(\"Median value: \\n\", median_value)"
      ],
      "metadata": {
        "colab": {
          "base_uri": "https://localhost:8080/"
        },
        "id": "VRHzOjNXWuVr",
        "outputId": "7b1cd654-708e-4525-8ff7-83af2f21e714"
      },
      "execution_count": 68,
      "outputs": [
        {
          "output_type": "stream",
          "name": "stdout",
          "text": [
            "Median value: \n",
            " [2.45 2.2  2.25 2.3  2.5  2.8  2.4  2.45 2.15 2.3  2.6  2.5  2.2  2.05\n",
            " 2.6  2.95 2.6  2.45 2.75 2.65 2.55 2.6  2.3  2.5  2.65 2.3  2.5  2.5\n",
            " 2.4  2.4  2.35 2.45 2.8  2.8  2.3  2.2  2.4  2.3  2.15 2.45 2.4  1.8\n",
            " 2.25 2.55 2.85 2.2  2.7  2.3  2.6  2.35 3.95 3.85 4.   3.15 3.7  3.65\n",
            " 4.   2.85 3.75 3.3  2.75 3.6  3.1  3.8  3.25 3.75 3.75 3.4  3.35 3.2\n",
            " 4.   3.4  3.7  3.75 3.6  3.7  3.8  4.   3.7  3.05 3.1  3.05 3.3  3.9\n",
            " 3.75 3.95 3.9  3.35 3.55 3.25 3.5  3.8  3.3  2.8  3.45 3.6  3.55 3.6\n",
            " 2.75 3.45 4.65 3.9  4.45 4.25 4.4  4.8  3.5  4.6  4.15 4.85 4.15 4.\n",
            " 4.25 3.75 3.95 4.25 4.25 5.25 4.75 3.6  4.45 3.85 4.75 3.8  4.5  4.6\n",
            " 3.8  3.95 4.2  4.4  4.45 5.1  4.2  3.95 4.1  4.55 4.5  4.3  3.9  4.25\n",
            " 4.35 4.1  3.9  4.55 4.5  4.1  3.75 4.1  4.4  4.05]\n"
          ]
        }
      ]
    },
    {
      "cell_type": "code",
      "source": [
        "# Calculate standard deviation value\n",
        "std_value = np.std(iris_dataset, axis=1)\n",
        "print(\"Standard deviation value: \\n\", std_value)"
      ],
      "metadata": {
        "colab": {
          "base_uri": "https://localhost:8080/"
        },
        "id": "tREa0KwtWubR",
        "outputId": "b6dbd747-5253-47c6-eff8-d7ae5878c2af"
      },
      "execution_count": 69,
      "outputs": [
        {
          "output_type": "stream",
          "name": "stdout",
          "text": [
            "Standard deviation value: \n",
            " [1.88745861 1.76405074 1.72988439 1.65604952 1.86748494 1.93196791\n",
            " 1.67686463 1.82671153 1.57856739 1.79164729 1.99874961 1.74642492\n",
            " 1.75979402 1.63152536 2.22261108 2.13658606 1.99812412 1.85657615\n",
            " 2.05228531 1.88198698 1.93826598 1.83626659 1.80762275 1.7284386\n",
            " 1.71227188 1.7741195  1.74928557 1.9065676  1.90984293 1.68874954\n",
            " 1.71227188 1.90443561 2.02530862 2.1194044  1.79164729 1.8493242\n",
            " 2.04129248 1.79164729 1.60370664 1.86077941 1.83898749 1.55563492\n",
            " 1.62999233 1.69908063 1.79304211 1.69760861 1.89917745 1.68151717\n",
            " 1.96516539 1.82944664 2.0535031  1.79304211 2.01494417 1.6068214\n",
            " 1.88480768 1.6693936  1.73403431 1.41598023 1.97040605 1.40890028\n",
            " 1.51554446 1.61322658 1.88944436 1.77957158 1.5435349  1.93520025\n",
            " 1.54677083 1.76776695 1.86681547 1.66789538 1.55784306 1.75570499\n",
            " 1.9        1.85876303 1.87399973 1.90984293 2.04144557 1.9065676\n",
            " 1.68874954 1.69852878 1.63554272 1.659066   1.68374582 1.77270979\n",
            " 1.48492424 1.60526478 1.92613603 1.93051159 1.57003185 1.57856739\n",
            " 1.6498106  1.75552699 1.70293864 1.46116392 1.61012422 1.64829457\n",
            " 1.62230546 1.80329559 1.43592305 1.62230546 1.65283847 1.61922049\n",
            " 2.04496332 1.85809042 1.8143525  2.32419341 1.33790882 2.28623599\n",
            " 2.08925824 1.88215302 1.72771525 1.83898749 1.88480768 1.5795569\n",
            " 1.45322916 1.62941707 1.88281704 2.20340645 2.44374201 1.8753333\n",
            " 1.85253205 1.47372827 2.44233495 1.77535208 1.83507493 2.15116248\n",
            " 1.71172428 1.66207701 1.8143525  2.21359436 2.26991189 2.28076193\n",
            " 1.78535711 1.88198698 1.97910965 2.21288838 1.58488959 1.83711731\n",
            " 1.61554944 1.88596792 1.7613915  1.79094947 1.61922049 1.85539753\n",
            " 1.71099386 1.75071414 1.79774164 1.7725335  1.55141065 1.63171689]\n"
          ]
        }
      ]
    },
    {
      "cell_type": "markdown",
      "source": [
        "Set 20 NaN values to a random unique position in Iris dataset"
      ],
      "metadata": {
        "id": "3_xC--i6l8aM"
      }
    },
    {
      "cell_type": "code",
      "source": [
        "# Choose random unique index from Iris dataset\n",
        "idx = np.random.choice(iris_dataset.size, 20, replace=False)\n",
        "# Replace value with NaN by index\n",
        "iris_dataset.flat[idx] = np.nan\n",
        "print(\"Look first twenty items:\\n\", iris_dataset[:20])"
      ],
      "metadata": {
        "colab": {
          "base_uri": "https://localhost:8080/"
        },
        "id": "S6WLm7cE-TII",
        "outputId": "666a7c8e-6eba-4fe1-d15e-825297b749c5"
      },
      "execution_count": 70,
      "outputs": [
        {
          "output_type": "stream",
          "name": "stdout",
          "text": [
            "Look first twenty items:\n",
            " [[5.1 3.5 1.4 0.2]\n",
            " [4.9 3.  1.4 0.2]\n",
            " [4.7 3.2 nan 0.2]\n",
            " [4.6 3.1 1.5 0.2]\n",
            " [5.  3.6 1.4 0.2]\n",
            " [5.4 3.9 1.7 0.4]\n",
            " [4.6 3.4 1.4 0.3]\n",
            " [5.  3.4 nan 0.2]\n",
            " [4.4 2.9 1.4 0.2]\n",
            " [4.9 3.1 1.5 0.1]\n",
            " [5.4 3.7 1.5 0.2]\n",
            " [4.8 3.4 1.6 0.2]\n",
            " [4.8 3.  1.4 0.1]\n",
            " [4.3 3.  1.1 nan]\n",
            " [5.8 4.  1.2 0.2]\n",
            " [5.7 4.4 1.5 0.4]\n",
            " [5.4 3.9 1.3 0.4]\n",
            " [5.1 3.5 1.4 0.3]\n",
            " [5.7 3.8 1.7 0.3]\n",
            " [5.1 nan nan 0.3]]\n"
          ]
        }
      ]
    },
    {
      "cell_type": "markdown",
      "source": [
        "Check unique postions"
      ],
      "metadata": {
        "id": "CDdFYoiOq1bZ"
      }
    },
    {
      "cell_type": "code",
      "source": [
        "# Get a unique index and counts\n",
        "unique_indexes, counts = np.unique(idx, return_counts=True)\n",
        "print(\"Unique indexes : \", unique_indexes)\n",
        "print(\"Counts       : \", counts)"
      ],
      "metadata": {
        "colab": {
          "base_uri": "https://localhost:8080/"
        },
        "id": "EJR4CQUClxAU",
        "outputId": "28368539-1005-4c30-a025-5e28b62fd3c2"
      },
      "execution_count": 71,
      "outputs": [
        {
          "output_type": "stream",
          "name": "stdout",
          "text": [
            "Unique indexes :  [ 10  30  55  77  78  86 109 110 118 181 184 212 234 284 349 369 419 469\n",
            " 565 588]\n",
            "Counts       :  [1 1 1 1 1 1 1 1 1 1 1 1 1 1 1 1 1 1 1 1]\n"
          ]
        }
      ]
    },
    {
      "cell_type": "markdown",
      "source": [
        "Look for NaN values in the first colum of Iris dataset"
      ],
      "metadata": {
        "id": "LzeeDiC2-abs"
      }
    },
    {
      "cell_type": "code",
      "source": [
        "# Set random seed for freezing output\n",
        "np.random.seed(seed = 42)\n",
        "# Create duplicate Iris dataset\n",
        "iris_ds_copy = iris_dataset.copy()\n",
        "# Check NaN value from the copy of Iris dataset\n",
        "nanIdx = np.isnan(iris_ds_copy)\n",
        "\n",
        "#replace Nan with -1 value\n",
        "iris_ds_copy[nanIdx] = -1\n",
        "\n",
        "print(\"Look first twenty items:\\n\", iris_ds_copy[:20])"
      ],
      "metadata": {
        "colab": {
          "base_uri": "https://localhost:8080/"
        },
        "id": "ulvoChlQ-imh",
        "outputId": "c0e534f5-e379-46ad-8157-9c013245e5a8"
      },
      "execution_count": 72,
      "outputs": [
        {
          "output_type": "stream",
          "name": "stdout",
          "text": [
            "Look first twenty items:\n",
            " [[ 5.1  3.5  1.4  0.2]\n",
            " [ 4.9  3.   1.4  0.2]\n",
            " [ 4.7  3.2 -1.   0.2]\n",
            " [ 4.6  3.1  1.5  0.2]\n",
            " [ 5.   3.6  1.4  0.2]\n",
            " [ 5.4  3.9  1.7  0.4]\n",
            " [ 4.6  3.4  1.4  0.3]\n",
            " [ 5.   3.4 -1.   0.2]\n",
            " [ 4.4  2.9  1.4  0.2]\n",
            " [ 4.9  3.1  1.5  0.1]\n",
            " [ 5.4  3.7  1.5  0.2]\n",
            " [ 4.8  3.4  1.6  0.2]\n",
            " [ 4.8  3.   1.4  0.1]\n",
            " [ 4.3  3.   1.1 -1. ]\n",
            " [ 5.8  4.   1.2  0.2]\n",
            " [ 5.7  4.4  1.5  0.4]\n",
            " [ 5.4  3.9  1.3  0.4]\n",
            " [ 5.1  3.5  1.4  0.3]\n",
            " [ 5.7  3.8  1.7  0.3]\n",
            " [ 5.1 -1.  -1.   0.3]]\n"
          ]
        }
      ]
    },
    {
      "cell_type": "code",
      "source": [
        "# Get the first column's values\n",
        "first_colums_values = iris_ds_copy[:,0]\n",
        "print(\"Look first twenty items:\\n\", first_colums_values[:20].reshape((20, 1)))\n",
        "# Look for indexes with value that equal -1\n",
        "idx = np.where(first_colums_values < 0)\n",
        "print(\"Indexes of NaN values: \", idx)"
      ],
      "metadata": {
        "colab": {
          "base_uri": "https://localhost:8080/"
        },
        "id": "zlhOz2qI-zoH",
        "outputId": "5dcc190e-6b94-488f-f464-2bedf2d940eb"
      },
      "execution_count": 73,
      "outputs": [
        {
          "output_type": "stream",
          "name": "stdout",
          "text": [
            "Look first twenty items:\n",
            " [[5.1]\n",
            " [4.9]\n",
            " [4.7]\n",
            " [4.6]\n",
            " [5. ]\n",
            " [5.4]\n",
            " [4.6]\n",
            " [5. ]\n",
            " [4.4]\n",
            " [4.9]\n",
            " [5.4]\n",
            " [4.8]\n",
            " [4.8]\n",
            " [4.3]\n",
            " [5.8]\n",
            " [5.7]\n",
            " [5.4]\n",
            " [5.1]\n",
            " [5.7]\n",
            " [5.1]]\n",
            "Indexes of NaN values:  (array([ 46,  53,  71, 147]),)\n"
          ]
        }
      ]
    },
    {
      "cell_type": "markdown",
      "source": [
        "Sorted Iris dataset where 3-column items > 1.5 and 1-coulmn items < 5.0"
      ],
      "metadata": {
        "id": "FDFc646IEaEi"
      }
    },
    {
      "cell_type": "code",
      "source": [
        "# Sorted first and third columns from the Iris dataset\n",
        "sorted_dataset = iris_dataset[np.lexsort((iris_dataset[:, 2], iris_dataset[:, 0]))]\n",
        "print(\"Look first twenty items:\\n\", sorted_dataset[:20])"
      ],
      "metadata": {
        "colab": {
          "base_uri": "https://localhost:8080/"
        },
        "id": "8-oAaFjzBak5",
        "outputId": "28f36f5d-ced3-4661-a020-7b31bd3f05aa"
      },
      "execution_count": 74,
      "outputs": [
        {
          "output_type": "stream",
          "name": "stdout",
          "text": [
            "Look first twenty items:\n",
            " [[4.3 3.  1.1 nan]\n",
            " [4.4 3.  1.3 0.2]\n",
            " [4.4 3.2 1.3 0.2]\n",
            " [4.4 2.9 1.4 0.2]\n",
            " [4.5 2.3 1.3 0.3]\n",
            " [4.6 3.6 1.  0.2]\n",
            " [4.6 3.4 1.4 0.3]\n",
            " [4.6 3.2 1.4 0.2]\n",
            " [4.6 3.1 1.5 0.2]\n",
            " [4.7 3.2 nan 0.2]\n",
            " [4.7 3.2 nan 0.2]\n",
            " [4.8 3.  1.4 0.1]\n",
            " [4.8 nan 1.4 0.3]\n",
            " [4.8 3.4 1.6 0.2]\n",
            " [4.8 3.1 1.6 0.2]\n",
            " [4.8 3.4 1.9 0.2]\n",
            " [4.9 3.  1.4 0.2]\n",
            " [4.9 3.1 1.5 0.1]\n",
            " [4.9 3.1 1.5 0.1]\n",
            " [4.9 3.1 1.5 0.1]]\n"
          ]
        }
      ]
    },
    {
      "cell_type": "markdown",
      "source": [
        "Replace all NaN values with O"
      ],
      "metadata": {
        "id": "fHx0GnrlQtif"
      }
    },
    {
      "cell_type": "code",
      "source": [
        "# Check NaN index from Iris dataset\n",
        "nanIdx = np.isnan(iris_dataset)\n",
        "\n",
        "# Replace Nan with 0 value\n",
        "iris_dataset[nanIdx] = 0\n",
        "print(\"Look first twenty items:\\n\", iris_dataset[:20])"
      ],
      "metadata": {
        "colab": {
          "base_uri": "https://localhost:8080/"
        },
        "id": "bb2ChkfmKIRl",
        "outputId": "29fc22fe-198f-45ff-a236-5c0b712c0a5a"
      },
      "execution_count": 75,
      "outputs": [
        {
          "output_type": "stream",
          "name": "stdout",
          "text": [
            "Look first twenty items:\n",
            " [[5.1 3.5 1.4 0.2]\n",
            " [4.9 3.  1.4 0.2]\n",
            " [4.7 3.2 0.  0.2]\n",
            " [4.6 3.1 1.5 0.2]\n",
            " [5.  3.6 1.4 0.2]\n",
            " [5.4 3.9 1.7 0.4]\n",
            " [4.6 3.4 1.4 0.3]\n",
            " [5.  3.4 0.  0.2]\n",
            " [4.4 2.9 1.4 0.2]\n",
            " [4.9 3.1 1.5 0.1]\n",
            " [5.4 3.7 1.5 0.2]\n",
            " [4.8 3.4 1.6 0.2]\n",
            " [4.8 3.  1.4 0.1]\n",
            " [4.3 3.  1.1 0. ]\n",
            " [5.8 4.  1.2 0.2]\n",
            " [5.7 4.4 1.5 0.4]\n",
            " [5.4 3.9 1.3 0.4]\n",
            " [5.1 3.5 1.4 0.3]\n",
            " [5.7 3.8 1.7 0.3]\n",
            " [5.1 0.  0.  0.3]]\n"
          ]
        }
      ]
    },
    {
      "cell_type": "markdown",
      "source": [
        "Count unique values and print their counts\n"
      ],
      "metadata": {
        "id": "X6_Fp_nmhRF7"
      }
    },
    {
      "cell_type": "code",
      "source": [
        "# Get unique values and counts from Iris dataset\n",
        "unique_values, counts = np.unique(iris_dataset, return_counts=True)\n",
        "print(\"Unique items :\\n \", unique_values)\n",
        "print(\"Counts       :\\n \", counts)"
      ],
      "metadata": {
        "colab": {
          "base_uri": "https://localhost:8080/"
        },
        "id": "2RjwHDNSheU6",
        "outputId": "1eb5e221-6346-4c49-ce9a-3ad24cb0f318"
      },
      "execution_count": 85,
      "outputs": [
        {
          "output_type": "stream",
          "name": "stdout",
          "text": [
            "Unique items :\n",
            "  [0.1 0.2 0.3 0.4 0.5 0.6 1.  1.1 1.2 1.3 1.4 1.5 1.6 1.7 1.8 1.9 2.  2.1\n",
            " 2.2 2.3 2.4 2.5 2.6 2.7 2.8 2.9 3.  3.1 3.2 3.3 3.4 3.5 3.6 3.7 3.8 3.9\n",
            " 4.  4.1 4.2 4.3 4.4 4.5 4.6 4.7 4.8 4.9 5.  5.1 5.2 5.3 5.4 5.5 5.6 5.7\n",
            " 5.8 5.9 6.  6.1 6.2 6.3 6.4 6.5 6.6 6.7 6.8 6.9 7.  7.1 7.2 7.3 7.4 7.6\n",
            " 7.7 7.9]\n",
            "Counts       :\n",
            "  [ 6 28  7  7  1  1  8  4  7 20 20 26 11  6 12  7  7  6  6 12  6 11  5  9\n",
            " 14 10 27 12 13  8 12  8  4  4  7  5  6  4  5  3  8  9  7  7  9 11 14 17\n",
            "  6  3  8 10 12 11 10  5  8  9  4 10  8  5  3 10  3  5  1  1  3  1  1  1\n",
            "  4  1]\n"
          ]
        }
      ]
    },
    {
      "cell_type": "markdown",
      "source": [
        "Split Iris dataset into 2 vertical parts"
      ],
      "metadata": {
        "id": "XAD9KPNHh05f"
      }
    },
    {
      "cell_type": "code",
      "source": [
        "# Split Iris dataset by axis=columns\n",
        "arr1, arr2 = np.split(iris_dataset, 2, axis=0)\n",
        "print(\"Look first half items:\\n\", arr1.shape)\n",
        "print(\"Look second half items:\\n\",arr2.shape)\n"
      ],
      "metadata": {
        "colab": {
          "base_uri": "https://localhost:8080/"
        },
        "id": "Yxn3fN59igY-",
        "outputId": "79772b8e-8e77-4df2-e6c6-291730ee2a60"
      },
      "execution_count": 77,
      "outputs": [
        {
          "output_type": "stream",
          "name": "stdout",
          "text": [
            "Look first half items:\n",
            " (75, 4)\n",
            "Look second half items:\n",
            " (75, 4)\n"
          ]
        }
      ]
    },
    {
      "cell_type": "markdown",
      "source": [
        "Sort by ascending/descending the first columns of arrays"
      ],
      "metadata": {
        "id": "u1doMZAFkwd-"
      }
    },
    {
      "cell_type": "code",
      "source": [
        "# Ascending array sort by first columns\n",
        "sorted_arr1 = arr1[arr1[:, 0].argsort()]\n",
        "# Descending array sort by first columns\n",
        "sorted_arr2 = arr2[arr2[:, 0].argsort()][::-1]\n",
        "print(\"-- First array --- \\n\")\n",
        "print(sorted_arr1)\n",
        "print(\"\\n\")\n",
        "print(\"-- Second array --- \\n\")\n",
        "print(sorted_arr2)"
      ],
      "metadata": {
        "colab": {
          "base_uri": "https://localhost:8080/"
        },
        "id": "WsSPv7YgkwHl",
        "outputId": "d864d87e-e3c5-4928-9752-56a304b3ea90"
      },
      "execution_count": 78,
      "outputs": [
        {
          "output_type": "stream",
          "name": "stdout",
          "text": [
            "-- First array --- \n",
            "\n",
            "[[0.  3.8 1.6 0.2]\n",
            " [0.  2.3 4.  1.3]\n",
            " [0.  2.8 4.  1.3]\n",
            " [4.3 3.  1.1 0. ]\n",
            " [4.4 3.  1.3 0.2]\n",
            " [4.4 3.2 1.3 0.2]\n",
            " [4.4 2.9 1.4 0.2]\n",
            " [4.5 2.3 1.3 0.3]\n",
            " [4.6 3.4 1.4 0.3]\n",
            " [4.6 3.1 1.5 0.2]\n",
            " [4.6 3.6 1.  0.2]\n",
            " [4.6 3.2 1.4 0.2]\n",
            " [4.7 3.2 0.  0.2]\n",
            " [4.7 3.2 0.  0.2]\n",
            " [4.8 0.  1.4 0.3]\n",
            " [4.8 3.4 1.9 0.2]\n",
            " [4.8 3.4 1.6 0.2]\n",
            " [4.8 3.  1.4 0.1]\n",
            " [4.8 3.1 1.6 0.2]\n",
            " [4.9 3.1 1.5 0.1]\n",
            " [4.9 2.4 3.3 1. ]\n",
            " [4.9 3.1 1.5 0.1]\n",
            " [4.9 3.  1.4 0.2]\n",
            " [4.9 3.1 1.5 0.1]\n",
            " [5.  3.5 1.6 0.6]\n",
            " [5.  3.3 1.4 0.2]\n",
            " [5.  2.  3.5 1. ]\n",
            " [5.  3.  1.6 0.2]\n",
            " [5.  3.4 1.6 0.4]\n",
            " [5.  3.5 1.3 0.3]\n",
            " [5.  3.4 0.  0.2]\n",
            " [5.  3.6 1.4 0.2]\n",
            " [5.  3.2 1.2 0.2]\n",
            " [5.1 3.8 1.9 0.4]\n",
            " [5.1 3.4 1.5 0.2]\n",
            " [5.1 3.5 1.4 0.2]\n",
            " [5.1 0.  0.  0.3]\n",
            " [5.1 3.3 1.7 0.5]\n",
            " [5.1 3.7 0.  0.4]\n",
            " [5.1 3.5 1.4 0.3]\n",
            " [5.2 4.1 1.5 0.1]\n",
            " [5.2 3.4 1.4 0.2]\n",
            " [5.2 0.  0.  0.2]\n",
            " [5.2 2.7 3.9 1.4]\n",
            " [5.3 3.7 1.5 0.2]\n",
            " [5.4 3.9 1.7 0.4]\n",
            " [5.4 3.4 1.5 0.4]\n",
            " [5.4 3.4 1.7 0.2]\n",
            " [5.4 3.7 1.5 0.2]\n",
            " [5.4 3.9 1.3 0.4]\n",
            " [5.5 3.5 1.3 0.2]\n",
            " [5.5 4.2 1.4 0.2]\n",
            " [5.6 2.9 3.6 1.3]\n",
            " [5.6 2.5 3.9 1.1]\n",
            " [5.6 3.  4.5 1.5]\n",
            " [5.7 2.8 4.5 1.3]\n",
            " [5.7 4.4 1.5 0.4]\n",
            " [5.7 3.8 1.7 0.3]\n",
            " [5.8 4.  1.2 0.2]\n",
            " [5.8 2.7 4.1 1. ]\n",
            " [5.9 3.  4.2 1.5]\n",
            " [5.9 3.2 4.8 1.8]\n",
            " [6.  2.2 4.  1. ]\n",
            " [6.1 2.8 4.7 1.2]\n",
            " [6.1 2.9 4.7 1.4]\n",
            " [6.2 2.2 4.5 1.5]\n",
            " [6.3 3.3 4.7 1.6]\n",
            " [6.3 2.5 4.9 1.5]\n",
            " [6.4 2.9 4.3 1.3]\n",
            " [6.4 3.2 4.5 1.5]\n",
            " [6.5 2.8 4.6 1.5]\n",
            " [6.6 2.9 0.  1.3]\n",
            " [6.7 3.1 4.4 1.4]\n",
            " [6.9 3.1 4.9 1.5]\n",
            " [7.  3.2 4.7 1.4]]\n",
            "\n",
            "\n",
            "-- Second array --- \n",
            "\n",
            "[[7.9 3.8 6.4 2. ]\n",
            " [7.7 2.8 6.7 2. ]\n",
            " [7.7 2.6 6.9 2.3]\n",
            " [7.7 0.  6.7 2.2]\n",
            " [7.7 3.  6.1 2.3]\n",
            " [7.6 3.  6.6 2.1]\n",
            " [7.4 2.8 6.1 1.9]\n",
            " [7.3 2.9 6.3 1.8]\n",
            " [7.2 3.  5.8 1.6]\n",
            " [7.2 3.6 6.1 2.5]\n",
            " [7.2 3.2 6.  1.8]\n",
            " [7.1 3.  5.9 2.1]\n",
            " [6.9 3.1 5.4 2.1]\n",
            " [6.9 0.  5.1 2.3]\n",
            " [6.9 3.2 5.7 2.3]\n",
            " [6.8 3.2 5.9 2.3]\n",
            " [6.8 2.8 4.8 1.4]\n",
            " [6.8 3.  5.5 2.1]\n",
            " [6.7 3.3 5.7 2.1]\n",
            " [6.7 3.1 5.6 2.4]\n",
            " [6.7 2.5 5.8 1.8]\n",
            " [6.7 3.1 4.7 1.5]\n",
            " [6.7 3.3 5.7 2.5]\n",
            " [6.7 3.  5.2 2.3]\n",
            " [6.7 3.  5.  1.7]\n",
            " [6.6 3.  4.4 1.4]\n",
            " [6.5 3.2 5.1 2. ]\n",
            " [6.5 3.  5.5 1.8]\n",
            " [6.5 3.  5.8 0. ]\n",
            " [6.4 2.8 5.6 2.1]\n",
            " [6.4 2.8 5.6 2.2]\n",
            " [6.4 3.2 5.3 2.3]\n",
            " [6.4 3.1 5.5 1.8]\n",
            " [6.4 2.7 5.3 1.9]\n",
            " [6.3 2.8 5.1 1.5]\n",
            " [6.3 3.3 6.  2.5]\n",
            " [6.3 0.  4.4 1.3]\n",
            " [6.3 2.9 5.6 1.8]\n",
            " [6.3 3.4 5.6 2.4]\n",
            " [6.3 2.7 4.9 1.8]\n",
            " [6.3 2.5 5.  1.9]\n",
            " [6.2 2.9 4.3 1.3]\n",
            " [6.2 3.4 5.4 2.3]\n",
            " [6.2 2.8 4.8 1.8]\n",
            " [6.1 2.6 5.6 1.4]\n",
            " [6.1 3.  4.9 1.8]\n",
            " [6.1 3.  4.6 1.4]\n",
            " [6.  3.4 4.5 1.6]\n",
            " [6.  2.7 5.1 1.6]\n",
            " [6.  2.9 4.5 1.5]\n",
            " [6.  2.2 5.  1.5]\n",
            " [6.  3.  4.8 1.8]\n",
            " [5.9 3.  5.1 1.8]\n",
            " [5.8 2.7 5.1 1.9]\n",
            " [5.8 2.8 5.1 2.4]\n",
            " [5.8 0.  4.  1.2]\n",
            " [5.8 2.7 3.9 1.2]\n",
            " [5.8 2.7 5.1 1.9]\n",
            " [5.7 2.9 4.2 1.3]\n",
            " [5.7 2.6 3.5 1. ]\n",
            " [5.7 2.5 5.  2. ]\n",
            " [5.7 3.  4.2 1.2]\n",
            " [5.7 2.8 4.1 1.3]\n",
            " [5.6 3.  4.1 1.3]\n",
            " [5.6 2.7 4.2 1.3]\n",
            " [5.6 2.8 4.9 2. ]\n",
            " [5.5 2.5 4.  1.3]\n",
            " [5.5 2.6 4.4 1.2]\n",
            " [5.5 2.4 3.7 1. ]\n",
            " [5.5 2.4 3.8 1.1]\n",
            " [5.4 3.  4.5 1.5]\n",
            " [5.1 2.5 3.  1.1]\n",
            " [5.  2.3 3.3 1. ]\n",
            " [4.9 2.5 4.5 1.7]\n",
            " [0.  3.  5.2 2. ]]\n"
          ]
        }
      ]
    },
    {
      "cell_type": "markdown",
      "source": [
        "Concatenate both arrays to a to big one"
      ],
      "metadata": {
        "id": "SlqZwzxhp5oZ"
      }
    },
    {
      "cell_type": "code",
      "source": [
        "#Concatenate both previous arrays\n",
        "new_arr = np.concatenate((sorted_arr1, sorted_arr2), axis=0)\n",
        "print(\"New array :\\n\", new_arr)"
      ],
      "metadata": {
        "colab": {
          "base_uri": "https://localhost:8080/"
        },
        "id": "JMCS16JWiilw",
        "outputId": "55d5e67e-c6fd-4fca-e65e-dfcb9d0c476d"
      },
      "execution_count": 79,
      "outputs": [
        {
          "output_type": "stream",
          "name": "stdout",
          "text": [
            "New array :\n",
            " [[0.  3.8 1.6 0.2]\n",
            " [0.  2.3 4.  1.3]\n",
            " [0.  2.8 4.  1.3]\n",
            " [4.3 3.  1.1 0. ]\n",
            " [4.4 3.  1.3 0.2]\n",
            " [4.4 3.2 1.3 0.2]\n",
            " [4.4 2.9 1.4 0.2]\n",
            " [4.5 2.3 1.3 0.3]\n",
            " [4.6 3.4 1.4 0.3]\n",
            " [4.6 3.1 1.5 0.2]\n",
            " [4.6 3.6 1.  0.2]\n",
            " [4.6 3.2 1.4 0.2]\n",
            " [4.7 3.2 0.  0.2]\n",
            " [4.7 3.2 0.  0.2]\n",
            " [4.8 0.  1.4 0.3]\n",
            " [4.8 3.4 1.9 0.2]\n",
            " [4.8 3.4 1.6 0.2]\n",
            " [4.8 3.  1.4 0.1]\n",
            " [4.8 3.1 1.6 0.2]\n",
            " [4.9 3.1 1.5 0.1]\n",
            " [4.9 2.4 3.3 1. ]\n",
            " [4.9 3.1 1.5 0.1]\n",
            " [4.9 3.  1.4 0.2]\n",
            " [4.9 3.1 1.5 0.1]\n",
            " [5.  3.5 1.6 0.6]\n",
            " [5.  3.3 1.4 0.2]\n",
            " [5.  2.  3.5 1. ]\n",
            " [5.  3.  1.6 0.2]\n",
            " [5.  3.4 1.6 0.4]\n",
            " [5.  3.5 1.3 0.3]\n",
            " [5.  3.4 0.  0.2]\n",
            " [5.  3.6 1.4 0.2]\n",
            " [5.  3.2 1.2 0.2]\n",
            " [5.1 3.8 1.9 0.4]\n",
            " [5.1 3.4 1.5 0.2]\n",
            " [5.1 3.5 1.4 0.2]\n",
            " [5.1 0.  0.  0.3]\n",
            " [5.1 3.3 1.7 0.5]\n",
            " [5.1 3.7 0.  0.4]\n",
            " [5.1 3.5 1.4 0.3]\n",
            " [5.2 4.1 1.5 0.1]\n",
            " [5.2 3.4 1.4 0.2]\n",
            " [5.2 0.  0.  0.2]\n",
            " [5.2 2.7 3.9 1.4]\n",
            " [5.3 3.7 1.5 0.2]\n",
            " [5.4 3.9 1.7 0.4]\n",
            " [5.4 3.4 1.5 0.4]\n",
            " [5.4 3.4 1.7 0.2]\n",
            " [5.4 3.7 1.5 0.2]\n",
            " [5.4 3.9 1.3 0.4]\n",
            " [5.5 3.5 1.3 0.2]\n",
            " [5.5 4.2 1.4 0.2]\n",
            " [5.6 2.9 3.6 1.3]\n",
            " [5.6 2.5 3.9 1.1]\n",
            " [5.6 3.  4.5 1.5]\n",
            " [5.7 2.8 4.5 1.3]\n",
            " [5.7 4.4 1.5 0.4]\n",
            " [5.7 3.8 1.7 0.3]\n",
            " [5.8 4.  1.2 0.2]\n",
            " [5.8 2.7 4.1 1. ]\n",
            " [5.9 3.  4.2 1.5]\n",
            " [5.9 3.2 4.8 1.8]\n",
            " [6.  2.2 4.  1. ]\n",
            " [6.1 2.8 4.7 1.2]\n",
            " [6.1 2.9 4.7 1.4]\n",
            " [6.2 2.2 4.5 1.5]\n",
            " [6.3 3.3 4.7 1.6]\n",
            " [6.3 2.5 4.9 1.5]\n",
            " [6.4 2.9 4.3 1.3]\n",
            " [6.4 3.2 4.5 1.5]\n",
            " [6.5 2.8 4.6 1.5]\n",
            " [6.6 2.9 0.  1.3]\n",
            " [6.7 3.1 4.4 1.4]\n",
            " [6.9 3.1 4.9 1.5]\n",
            " [7.  3.2 4.7 1.4]\n",
            " [7.9 3.8 6.4 2. ]\n",
            " [7.7 2.8 6.7 2. ]\n",
            " [7.7 2.6 6.9 2.3]\n",
            " [7.7 0.  6.7 2.2]\n",
            " [7.7 3.  6.1 2.3]\n",
            " [7.6 3.  6.6 2.1]\n",
            " [7.4 2.8 6.1 1.9]\n",
            " [7.3 2.9 6.3 1.8]\n",
            " [7.2 3.  5.8 1.6]\n",
            " [7.2 3.6 6.1 2.5]\n",
            " [7.2 3.2 6.  1.8]\n",
            " [7.1 3.  5.9 2.1]\n",
            " [6.9 3.1 5.4 2.1]\n",
            " [6.9 0.  5.1 2.3]\n",
            " [6.9 3.2 5.7 2.3]\n",
            " [6.8 3.2 5.9 2.3]\n",
            " [6.8 2.8 4.8 1.4]\n",
            " [6.8 3.  5.5 2.1]\n",
            " [6.7 3.3 5.7 2.1]\n",
            " [6.7 3.1 5.6 2.4]\n",
            " [6.7 2.5 5.8 1.8]\n",
            " [6.7 3.1 4.7 1.5]\n",
            " [6.7 3.3 5.7 2.5]\n",
            " [6.7 3.  5.2 2.3]\n",
            " [6.7 3.  5.  1.7]\n",
            " [6.6 3.  4.4 1.4]\n",
            " [6.5 3.2 5.1 2. ]\n",
            " [6.5 3.  5.5 1.8]\n",
            " [6.5 3.  5.8 0. ]\n",
            " [6.4 2.8 5.6 2.1]\n",
            " [6.4 2.8 5.6 2.2]\n",
            " [6.4 3.2 5.3 2.3]\n",
            " [6.4 3.1 5.5 1.8]\n",
            " [6.4 2.7 5.3 1.9]\n",
            " [6.3 2.8 5.1 1.5]\n",
            " [6.3 3.3 6.  2.5]\n",
            " [6.3 0.  4.4 1.3]\n",
            " [6.3 2.9 5.6 1.8]\n",
            " [6.3 3.4 5.6 2.4]\n",
            " [6.3 2.7 4.9 1.8]\n",
            " [6.3 2.5 5.  1.9]\n",
            " [6.2 2.9 4.3 1.3]\n",
            " [6.2 3.4 5.4 2.3]\n",
            " [6.2 2.8 4.8 1.8]\n",
            " [6.1 2.6 5.6 1.4]\n",
            " [6.1 3.  4.9 1.8]\n",
            " [6.1 3.  4.6 1.4]\n",
            " [6.  3.4 4.5 1.6]\n",
            " [6.  2.7 5.1 1.6]\n",
            " [6.  2.9 4.5 1.5]\n",
            " [6.  2.2 5.  1.5]\n",
            " [6.  3.  4.8 1.8]\n",
            " [5.9 3.  5.1 1.8]\n",
            " [5.8 2.7 5.1 1.9]\n",
            " [5.8 2.8 5.1 2.4]\n",
            " [5.8 0.  4.  1.2]\n",
            " [5.8 2.7 3.9 1.2]\n",
            " [5.8 2.7 5.1 1.9]\n",
            " [5.7 2.9 4.2 1.3]\n",
            " [5.7 2.6 3.5 1. ]\n",
            " [5.7 2.5 5.  2. ]\n",
            " [5.7 3.  4.2 1.2]\n",
            " [5.7 2.8 4.1 1.3]\n",
            " [5.6 3.  4.1 1.3]\n",
            " [5.6 2.7 4.2 1.3]\n",
            " [5.6 2.8 4.9 2. ]\n",
            " [5.5 2.5 4.  1.3]\n",
            " [5.5 2.6 4.4 1.2]\n",
            " [5.5 2.4 3.7 1. ]\n",
            " [5.5 2.4 3.8 1.1]\n",
            " [5.4 3.  4.5 1.5]\n",
            " [5.1 2.5 3.  1.1]\n",
            " [5.  2.3 3.3 1. ]\n",
            " [4.9 2.5 4.5 1.7]\n",
            " [0.  3.  5.2 2. ]]\n"
          ]
        }
      ]
    },
    {
      "cell_type": "markdown",
      "source": [
        "Look for the most repeated value in array"
      ],
      "metadata": {
        "id": "7ifsfPu0rN1B"
      }
    },
    {
      "cell_type": "code",
      "source": [
        "# Look for all unique values and their counts\n",
        "repeat_values, counts = np.unique(new_arr, return_counts=True)\n",
        "# Get arg max of counts and pass it as index to our array\n",
        "most_repeat_value = repeat_values[np.argmax(counts)]\n",
        "print(\"Most repeated value is: \",most_repeat_value)"
      ],
      "metadata": {
        "colab": {
          "base_uri": "https://localhost:8080/"
        },
        "id": "mDzaGZrUqLxa",
        "outputId": "9b088aab-3119-46a3-8988-78d2eafaec4c"
      },
      "execution_count": 80,
      "outputs": [
        {
          "output_type": "stream",
          "name": "stdout",
          "text": [
            "Most repeated value is:  0.2\n"
          ]
        }
      ]
    },
    {
      "cell_type": "markdown",
      "source": [
        "Implementation of math function to work with items"
      ],
      "metadata": {
        "id": "oIYa4JcKj4pK"
      }
    },
    {
      "cell_type": "code",
      "source": [
        "def perform_calculation(array):\n",
        "    # Calculate the mean of the column\n",
        "    mean = np.mean(array)\n",
        "\n",
        "    # Create a mask to identify values less than the mean\n",
        "    mask = array < mean\n",
        "\n",
        "    # Multiply values less than the mean by 2\n",
        "    array[mask] *= 2\n",
        "\n",
        "    # Divide values greater than or equal to the mean by 4\n",
        "    array[mask] /= 4\n",
        "\n",
        "    return array"
      ],
      "metadata": {
        "id": "NeYayF6zsTeW"
      },
      "execution_count": 81,
      "outputs": []
    },
    {
      "cell_type": "markdown",
      "source": [
        "Apply the perform_calculation func to third column of Iris dataset"
      ],
      "metadata": {
        "id": "-FuyoG0Vm-R3"
      }
    },
    {
      "cell_type": "code",
      "source": [
        "# User previous func for calculation task\n",
        "new_set = perform_calculation(iris_dataset[:, 2])\n",
        "print(\"New set: \\n\",new_set)"
      ],
      "metadata": {
        "colab": {
          "base_uri": "https://localhost:8080/"
        },
        "id": "d7GOSmy_ls86",
        "outputId": "8aa79fc8-bfaf-4623-9657-6441684474a7"
      },
      "execution_count": 82,
      "outputs": [
        {
          "output_type": "stream",
          "name": "stdout",
          "text": [
            "New set: \n",
            " [0.7  0.7  0.   0.75 0.7  0.85 0.7  0.   0.7  0.75 0.75 0.8  0.7  0.55\n",
            " 0.6  0.75 0.65 0.7  0.85 0.   0.85 0.   0.5  0.85 0.95 0.8  0.8  0.\n",
            " 0.7  0.   0.8  0.75 0.75 0.7  0.75 0.6  0.65 0.75 0.65 0.75 0.65 0.65\n",
            " 0.65 0.8  0.95 0.7  0.8  0.7  0.75 0.7  4.7  4.5  4.9  4.   4.6  4.5\n",
            " 4.7  1.65 0.   3.9  1.75 4.2  4.   4.7  1.8  4.4  4.5  4.1  4.5  3.9\n",
            " 4.8  4.   4.9  4.7  4.3  4.4  4.8  5.   4.5  1.75 3.8  3.7  3.9  5.1\n",
            " 4.5  4.5  4.7  4.4  4.1  4.   4.4  4.6  4.   1.65 4.2  4.2  4.2  4.3\n",
            " 1.5  4.1  6.   5.1  5.9  5.6  5.8  6.6  4.5  6.3  5.8  6.1  5.1  5.3\n",
            " 5.5  5.   5.1  5.3  5.5  6.7  6.9  5.   5.7  4.9  6.7  4.9  5.7  6.\n",
            " 4.8  4.9  5.6  5.8  6.1  6.4  5.6  5.1  5.6  6.1  5.6  5.5  4.8  5.4\n",
            " 5.6  5.1  5.1  5.9  5.7  5.2  5.   5.2  5.4  5.1 ]\n"
          ]
        }
      ]
    }
  ]
}